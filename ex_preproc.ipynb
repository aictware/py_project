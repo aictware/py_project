{
 "cells": [
  {
   "cell_type": "markdown",
   "id": "f80b00ef",
   "metadata": {},
   "source": [
    "# ex1"
   ]
  },
  {
   "cell_type": "code",
   "execution_count": 2,
   "id": "28386ad0",
   "metadata": {},
   "outputs": [
    {
     "name": "stdout",
     "output_type": "stream",
     "text": [
      "결측치 확인:\n",
      "PassengerId      0\n",
      "Survived         0\n",
      "Pclass           0\n",
      "Name             0\n",
      "Sex              0\n",
      "Age            177\n",
      "SibSp            0\n",
      "Parch            0\n",
      "Ticket           0\n",
      "Fare             0\n",
      "Cabin          687\n",
      "Embarked         2\n",
      "dtype: int64\n",
      "\n",
      "결측치 처리 후:\n",
      "PassengerId    0\n",
      "Survived       0\n",
      "Pclass         0\n",
      "Name           0\n",
      "Sex            0\n",
      "Age            0\n",
      "SibSp          0\n",
      "Parch          0\n",
      "Ticket         0\n",
      "Fare           0\n",
      "Embarked       0\n",
      "dtype: int64\n"
     ]
    },
    {
     "name": "stderr",
     "output_type": "stream",
     "text": [
      "C:\\Users\\LG\\AppData\\Local\\Temp\\ipykernel_27408\\1921701383.py:12: FutureWarning: A value is trying to be set on a copy of a DataFrame or Series through chained assignment using an inplace method.\n",
      "The behavior will change in pandas 3.0. This inplace method will never work because the intermediate object on which we are setting values always behaves as a copy.\n",
      "\n",
      "For example, when doing 'df[col].method(value, inplace=True)', try using 'df.method({col: value}, inplace=True)' or df[col] = df[col].method(value) instead, to perform the operation inplace on the original object.\n",
      "\n",
      "\n",
      "  df['Age'].fillna(df['Age'].mean(), inplace=True)\n",
      "C:\\Users\\LG\\AppData\\Local\\Temp\\ipykernel_27408\\1921701383.py:16: FutureWarning: A value is trying to be set on a copy of a DataFrame or Series through chained assignment using an inplace method.\n",
      "The behavior will change in pandas 3.0. This inplace method will never work because the intermediate object on which we are setting values always behaves as a copy.\n",
      "\n",
      "For example, when doing 'df[col].method(value, inplace=True)', try using 'df.method({col: value}, inplace=True)' or df[col] = df[col].method(value) instead, to perform the operation inplace on the original object.\n",
      "\n",
      "\n",
      "  df['Embarked'].fillna(mode_value, inplace=True)\n"
     ]
    }
   ],
   "source": [
    "import pandas as pd  # 데이터 분석을 위한 Pandas 라이브러리 불러오기\n",
    "\n",
    "# 1. 데이터 불러오기\n",
    "df = pd.read_csv('train.csv')\n",
    "\n",
    "# 2. 결측치 확인\n",
    "print(\"결측치 확인:\")\n",
    "print(df.isnull().sum())\n",
    "\n",
    "\n",
    "# 3. 'Age' 결측치를 평균으로 대체\n",
    "df['Age'].fillna(df['Age'].mean(), inplace=True)\n",
    "\n",
    "# 4. 'Embarked' 결측치를 최빈값(Mode)으로 대체\n",
    "mode_value = df['Embarked'].mode()[0]  # 최빈값 찾기\n",
    "df['Embarked'].fillna(mode_value, inplace=True)\n",
    "\n",
    "# cabin 열은 결측치가 너무 많아서 삭제\n",
    "df.drop('Cabin', axis=1, inplace=True)\n",
    "\n",
    "# 5. 결측치 확인 (확인용)\n",
    "print(\"\\n결측치 처리 후:\")\n",
    "print(df.isnull().sum())"
   ]
  },
  {
   "cell_type": "markdown",
   "id": "5348182a",
   "metadata": {},
   "source": [
    "### ex2"
   ]
  },
  {
   "cell_type": "code",
   "execution_count": 3,
   "id": "29bc9eed",
   "metadata": {},
   "outputs": [
    {
     "name": "stdout",
     "output_type": "stream",
     "text": [
      "sales.csv 파일이 생성되었습니다.\n"
     ]
    }
   ],
   "source": [
    "import pandas as pd\n",
    "\n",
    "# 1. 가짜 데이터 생성\n",
    "data = {\n",
    "    'ProductID': [101, 102, 103, 104, 101, 102, 103, 105, 106, 101],\n",
    "    'ProductName': ['A', 'B', 'C', 'D', 'A', 'B', 'C', 'E', 'F', 'A'],\n",
    "    'Price': [100, 200, 300, 400, 100, 200, 300, 500, 600, 100],\n",
    "    'Quantity': [1, 2, 3, 4, 1, 2, 3, 5, 6, 1]\n",
    "}\n",
    "\n",
    "# 2. DataFrame 생성\n",
    "df = pd.DataFrame(data)\n",
    "\n",
    "# 3. 중복된 데이터를 일부 추가 (중복된 행 4개 추가)\n",
    "df.loc[len(df.index)] = [101, 'A', 100, 1]  # 중복 행 추가\n",
    "df.loc[len(df.index)] = [102, 'B', 200, 2]  # 중복 행 추가\n",
    "df.loc[len(df.index)] = [103, 'C', 300, 3]  # 중복 행 추가\n",
    "df.loc[len(df.index)] = [104, 'D', 400, 4]  # 중복 행 추가\n",
    "\n",
    "# 4. CSV 파일로 내보내기\n",
    "df.to_csv('sales.csv', index=False)\n",
    "\n",
    "print(\"sales.csv 파일이 생성되었습니다.\")\n"
   ]
  },
  {
   "cell_type": "code",
   "execution_count": 4,
   "id": "377f4baa",
   "metadata": {},
   "outputs": [
    {
     "name": "stdout",
     "output_type": "stream",
     "text": [
      "중복된 데이터 개수: 8개\n",
      "중복 제거 후 남은 데이터 개수: 6개\n"
     ]
    }
   ],
   "source": [
    "import pandas as pd\n",
    "\n",
    "df = pd.read_csv('sales.csv')\n",
    "\n",
    "duplicated_count = df.duplicated().sum()\n",
    "print(f\"중복된 데이터 개수: {duplicated_count}개\")\n",
    "\n",
    "df_unique = df.drop_duplicates()\n",
    "\n",
    "unique_count = len(df_unique)\n",
    "print(f\"중복 제거 후 남은 데이터 개수: {unique_count}개\")\n"
   ]
  },
  {
   "cell_type": "markdown",
   "id": "2d1df898",
   "metadata": {},
   "source": [
    "### ex3"
   ]
  },
  {
   "cell_type": "code",
   "execution_count": 7,
   "id": "0579e92f",
   "metadata": {},
   "outputs": [
    {
     "name": "stdout",
     "output_type": "stream",
     "text": [
      "이상치 경계 하한(lower bound): -0.5599999999999999\n",
      "이상치 경계 상한(upper bound): 2.0\n",
      "이상치 제거 전 데이터 개수: 53940\n",
      "이상치 제거 후 데이터 개수: 52051\n"
     ]
    }
   ],
   "source": [
    "import pandas as pd  \n",
    "\n",
    "df = pd.read_csv('diamonds.csv')\n",
    "\n",
    "Q1 = df['carat'].quantile(0.25)  \n",
    "Q3 = df['carat'].quantile(0.75)  \n",
    "IQR = Q3 - Q1  \n",
    "\n",
    "lower_bound = Q1 - 1.5 * IQR  \n",
    "upper_bound = Q3 + 1.5 * IQR  \n",
    "\n",
    "print(f\"이상치 경계 하한(lower bound): {lower_bound}\")\n",
    "print(f\"이상치 경계 상한(upper bound): {upper_bound}\")\n",
    "\n",
    "df_cleaned = df[(df['carat'] >= lower_bound) & (df['carat'] <= upper_bound)]\n",
    "\n",
    "print(f\"이상치 제거 전 데이터 개수: {df.shape[0]}\")\n",
    "print(f\"이상치 제거 후 데이터 개수: {df_cleaned.shape[0]}\")\n"
   ]
  },
  {
   "cell_type": "markdown",
   "id": "db28ceb7",
   "metadata": {},
   "source": [
    "### ex4"
   ]
  },
  {
   "cell_type": "code",
   "execution_count": 8,
   "id": "4c87b0ef",
   "metadata": {},
   "outputs": [
    {
     "name": "stdout",
     "output_type": "stream",
     "text": [
      "   age  workclass  fnlwgt  education  educational-num  marital-status  \\\n",
      "0   25          4  226802          1                7               4   \n",
      "1   38          4   89814         11                9               2   \n",
      "2   28          2  336951          7               12               2   \n",
      "3   44          4  160323         15               10               2   \n",
      "4   18          0  103497         15               10               4   \n",
      "\n",
      "   occupation  relationship  race  gender  capital-gain  capital-loss  \\\n",
      "0           7             3     2       1             0             0   \n",
      "1           5             0     4       1             0             0   \n",
      "2          11             0     4       1             0             0   \n",
      "3           7             0     2       1          7688             0   \n",
      "4           0             3     4       0             0             0   \n",
      "\n",
      "   hours-per-week  native-country income  \n",
      "0              40              39  <=50K  \n",
      "1              50              39  <=50K  \n",
      "2              40              39   >50K  \n",
      "3              40              39   >50K  \n",
      "4              30              39  <=50K  \n"
     ]
    }
   ],
   "source": [
    "import pandas as pd\n",
    "from sklearn.preprocessing import LabelEncoder\n",
    "\n",
    "# Adult Income 데이터셋을 불러오기\n",
    "data = pd.read_csv('adult.csv')\n",
    "\n",
    "# Label Encoding을 적용할 범주형 컬럼들\n",
    "categorical_columns = ['workclass', 'education', 'marital-status', 'occupation',\n",
    "                       'relationship', 'race', 'gender', 'native-country']\n",
    "\n",
    "# LabelEncoder 인스턴스 생성\n",
    "label_encoder = LabelEncoder()\n",
    "\n",
    "# 각 범주형 열을 Label Encoding으로 변환\n",
    "for column in categorical_columns:\n",
    "    data[column] = label_encoder.fit_transform(data[column])\n",
    "\n",
    "# 인코딩된 데이터 확인 (상위 5개 행 출력)\n",
    "print(data.head())\n"
   ]
  },
  {
   "cell_type": "markdown",
   "id": "e9d073e3",
   "metadata": {},
   "source": [
    "### ex5"
   ]
  },
  {
   "cell_type": "code",
   "execution_count": 9,
   "id": "068ba9a2",
   "metadata": {},
   "outputs": [
    {
     "name": "stdout",
     "output_type": "stream",
     "text": [
      "   fixed acidity  volatile acidity  citric acid  residual sugar  chlorides\n",
      "0      -0.528360          0.961877    -1.391472       -0.453218  -0.243707\n",
      "1      -0.298547          1.967442    -1.391472        0.043416   0.223875\n",
      "2      -0.298547          1.297065    -1.186070       -0.169427   0.096353\n",
      "3       1.654856         -1.384443     1.484154       -0.453218  -0.264960\n",
      "4      -0.528360          0.961877    -1.391472       -0.453218  -0.243707\n"
     ]
    }
   ],
   "source": [
    "import pandas as pd\n",
    "from sklearn.preprocessing import StandardScaler\n",
    "\n",
    "data = pd.read_csv('winequality-red.csv')\n",
    "\n",
    "scaler = StandardScaler()\n",
    "\n",
    "columns_to_scale = ['fixed acidity', 'volatile acidity', 'citric acid', 'residual sugar', 'chlorides']\n",
    "\n",
    "scaled_data = scaler.fit_transform(data[columns_to_scale])\n",
    "\n",
    "scaled_df = pd.DataFrame(scaled_data, columns=columns_to_scale)\n",
    "\n",
    "print(scaled_df.head())\n"
   ]
  }
 ],
 "metadata": {
  "kernelspec": {
   "display_name": ".venv",
   "language": "python",
   "name": "python3"
  },
  "language_info": {
   "codemirror_mode": {
    "name": "ipython",
    "version": 3
   },
   "file_extension": ".py",
   "mimetype": "text/x-python",
   "name": "python",
   "nbconvert_exporter": "python",
   "pygments_lexer": "ipython3",
   "version": "3.13.4"
  }
 },
 "nbformat": 4,
 "nbformat_minor": 5
}
